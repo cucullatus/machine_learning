{
 "cells": [
  {
   "cell_type": "code",
   "execution_count": 7,
   "metadata": {
    "collapsed": false
   },
   "outputs": [
    {
     "name": "stdout",
     "output_type": "stream",
     "text": [
      "Extracting G:/notebook/MNIST_data/train-images-idx3-ubyte.gz\n",
      "Extracting G:/notebook/MNIST_data/train-labels-idx1-ubyte.gz\n",
      "Extracting G:/notebook/MNIST_data/t10k-images-idx3-ubyte.gz\n",
      "Extracting G:/notebook/MNIST_data/t10k-labels-idx1-ubyte.gz\n"
     ]
    }
   ],
   "source": [
    "import tensorflow as tf\n",
    "import numpy as np\n",
    "\n",
    "from tensorflow.examples.tutorials.mnist import input_data\n",
    "LOCAL_FOLDER = \"G:/notebook/MNIST_data/\"\n",
    "data = input_data.read_data_sets(LOCAL_FOLDER, one_hot=True, validation_size=0)"
   ]
  },
  {
   "cell_type": "code",
   "execution_count": 12,
   "metadata": {
    "collapsed": true
   },
   "outputs": [],
   "source": [
    "np.random.seed(10)\n",
    "tf.set_random_seed(10)\n",
    "\n",
    "class MLP(object):\n",
    "    def __init__(self, input, in_dim, out_dim, act=tf.nn.relu, vn=('W', 'b')):\n",
    "        self.input = input\n",
    "        \n",
    "        W = tf.Variable(\n",
    "            tf.random_uniform(\n",
    "                [in_dim, out_dim], \n",
    "                maxval = tf.sqrt(6.0) / tf.sqrt(float(out_dim+in_dim)),\n",
    "                seed = 10\n",
    "            ), name=vn[0]\n",
    "        )\n",
    "        \n",
    "        b = tf.Variable(tf.zeros([out_dim]), name=vn[1])\n",
    "        \n",
    "        self.W = W\n",
    "        self.b = b\n",
    "        self.params = [self.W, self.b]\n",
    "        self.act = act\n",
    "    \n",
    "    def output(self):\n",
    "        y = tf.matmul(self.input, self.W) + self.b\n",
    "        self.output = self.act(y)\n",
    "        \n",
    "        return self.output"
   ]
  },
  {
   "cell_type": "code",
   "execution_count": 13,
   "metadata": {
    "collapsed": false
   },
   "outputs": [],
   "source": [
    "input = tf.placeholder(tf.float32, [None, 784], name=\"input\")\n",
    "targets = tf.placeholder(tf.float32, [None, 10], name=\"targets\")\n",
    "\n",
    "hidden1 = MLP(input, 784, 200, act=tf.nn.relu, vn=(\"W1\", \"b1\"))\n",
    "\n",
    "output = MLP(hidden1.output(), 200, 10, act=tf.identity, vn=(\"W2\", \"b2\"))\n",
    "\n",
    "predict = output.output()\n",
    "\n",
    "cross_entropy = tf.reduce_mean(\n",
    "    tf.nn.softmax_cross_entropy_with_logits(\n",
    "        labels=targets, logits=predict\n",
    "    )\n",
    ")\n",
    "\n",
    "#loss = cross_entropy + 1e-6 * (tf.nn.l2_loss(hidden1.W) + tf.nn.l2_loss(output.W))\n",
    "#loss = cross_entropy + 1e-6 * (tf.nn.l1_loss(hidden1.W) + tf.nn.l1_loss(output.W))\n",
    "loss = cross_entropy + 1e-6 * (tf.reduce_sum(tf.abs(hidden1.W)) + tf.reduce_sum(tf.abs(output.W)))\n",
    "#loss = cross_entropy + 1e-6 * (tf.reduce_sum(tf.abs(hidden1.W)) + tf.reduce_sum(tf.abs(output.W)))+ 1e-6 * (tf.nn.l2_loss(hidden1.W) + tf.nn.l2_loss(output.W))\n",
    "\n",
    "train_step = tf.train.GradientDescentOptimizer(0.1).minimize(loss)\n",
    "\n",
    "correct_prediction = tf.equal(tf.argmax(predict, 1), tf.argmax(targets, 1))\n",
    "accuracy = tf.reduce_mean(tf.cast(correct_prediction, tf.float32))\n"
   ]
  },
  {
   "cell_type": "code",
   "execution_count": 14,
   "metadata": {
    "collapsed": true
   },
   "outputs": [],
   "source": [
    "from matplotlib import pyplot\n",
    "\n",
    "steps = []\n",
    "accuracies = []\n",
    "\n",
    "# creating session\n",
    "sess = tf.InteractiveSession()\n",
    "\n",
    "# initializing trainable variables\n",
    "sess.run(tf.global_variables_initializer())\n",
    "\n",
    "# training loop\n",
    "for step in range(4000):\n",
    "    # fetching next batch of training data\n",
    "    batch_xs, batch_ys = data.train.next_batch(100)\n",
    "\n",
    "    if step % 100 == 0:\n",
    "        # reporting current accuracy of the model on every 100th batch\n",
    "        batch_accuracy = sess.run(accuracy, feed_dict={input: batch_xs, targets: batch_ys})\n",
    "        #print(\"{0}:\\tbatch accuracy {1:.2f}\".format(step, batch_accuracy))\n",
    "        steps.append(step/100)\n",
    "        accuracies.append(batch_accuracy)\n",
    "\n",
    "    # running the training step with the fetched batch\n",
    "    sess.run(train_step, feed_dict={input: batch_xs, targets: batch_ys})\n",
    "\n",
    "pyplot.plot(steps, accuracies, 'k-', linewidth=2.0, color='green')\n",
    "pyplot.show()   "
   ]
  },
  {
   "cell_type": "code",
   "execution_count": 15,
   "metadata": {
    "collapsed": false
   },
   "outputs": [
    {
     "name": "stdout",
     "output_type": "stream",
     "text": [
      "-------------------------------------------------\n",
      "Test set accuracy: 0.9574\n"
     ]
    }
   ],
   "source": [
    "# evaluating model prediction accuracy of the model on the test set\n",
    "test_accuracy = sess.run(accuracy, feed_dict={input: data.test.images, targets: data.test.labels})\n",
    "\n",
    "\n",
    "print(\"-------------------------------------------------\")\n",
    "print(\"Test set accuracy: {0:.4f}\".format(test_accuracy))"
   ]
  },
  {
   "cell_type": "code",
   "execution_count": null,
   "metadata": {
    "collapsed": true
   },
   "outputs": [],
   "source": []
  }
 ],
 "metadata": {
  "kernelspec": {
   "display_name": "Python 3",
   "language": "python",
   "name": "python3"
  },
  "language_info": {
   "codemirror_mode": {
    "name": "ipython",
    "version": 3
   },
   "file_extension": ".py",
   "mimetype": "text/x-python",
   "name": "python",
   "nbconvert_exporter": "python",
   "pygments_lexer": "ipython3",
   "version": "3.6.0"
  }
 },
 "nbformat": 4,
 "nbformat_minor": 0
}
