{
 "cells": [
  {
   "cell_type": "code",
   "execution_count": 1,
   "metadata": {
    "collapsed": false
   },
   "outputs": [
    {
     "name": "stdout",
     "output_type": "stream",
     "text": [
      "Extracting G:/notebook/MNIST_data/train-images-idx3-ubyte.gz\n",
      "Extracting G:/notebook/MNIST_data/train-labels-idx1-ubyte.gz\n",
      "Extracting G:/notebook/MNIST_data/t10k-images-idx3-ubyte.gz\n",
      "Extracting G:/notebook/MNIST_data/t10k-labels-idx1-ubyte.gz\n"
     ]
    }
   ],
   "source": [
    "import tensorflow as tf\n",
    "import numpy as np\n",
    "\n",
    "from tensorflow.examples.tutorials.mnist import input_data\n",
    "\n",
    "LOCAL_FOLDER = \"G:/notebook/MNIST_data/\"\n",
    "np.random.seed(10)\n",
    "tf.set_random_seed(10)\n",
    "\n",
    "data = input_data.read_data_sets(LOCAL_FOLDER, one_hot=True, validation_size=0)"
   ]
  },
  {
   "cell_type": "code",
   "execution_count": 2,
   "metadata": {
    "collapsed": true
   },
   "outputs": [],
   "source": [
    "def dense_layer(x, in_dim, out_dim, layer_name, act):\n",
    "    with tf.name_scope(layer_name):\n",
    "        # W\n",
    "        weights = tf.Variable(\n",
    "            tf.random_uniform(\n",
    "                [in_dim, out_dim], \n",
    "                maxval = tf.sqrt(6.0) / tf.sqrt(float(out_dim+in_dim)),\n",
    "                seed = 10\n",
    "            ), name=\"weights\"\n",
    "        )\n",
    "\n",
    "        # b\n",
    "        biases = tf.Variable(tf.zeros([out_dim]), name=\"biases\")\n",
    "\n",
    "        # y =f(Wx+b)\n",
    "        layer = act(tf.matmul(x, weights) + biases, name=\"activations\")\n",
    "\n",
    "    return layer"
   ]
  },
  {
   "cell_type": "code",
   "execution_count": 3,
   "metadata": {
    "collapsed": false
   },
   "outputs": [
    {
     "ename": "AttributeError",
     "evalue": "'Tensor' object has no attribute 'weights'",
     "output_type": "error",
     "traceback": [
      "\u001b[1;31m---------------------------------------------------------------------------\u001b[0m",
      "\u001b[1;31mAttributeError\u001b[0m                            Traceback (most recent call last)",
      "\u001b[1;32m<ipython-input-3-ba61210a8555>\u001b[0m in \u001b[0;36m<module>\u001b[1;34m()\u001b[0m\n\u001b[0;32m     17\u001b[0m )\n\u001b[0;32m     18\u001b[0m \u001b[1;33m\u001b[0m\u001b[0m\n\u001b[1;32m---> 19\u001b[1;33m \u001b[0mloss\u001b[0m \u001b[1;33m=\u001b[0m \u001b[0mcross_entropy\u001b[0m \u001b[1;33m+\u001b[0m \u001b[1;36m1e-6\u001b[0m \u001b[1;33m*\u001b[0m \u001b[1;33m(\u001b[0m\u001b[0mtf\u001b[0m\u001b[1;33m.\u001b[0m\u001b[0mnn\u001b[0m\u001b[1;33m.\u001b[0m\u001b[0ml2_loss\u001b[0m\u001b[1;33m(\u001b[0m\u001b[0mhidden1\u001b[0m\u001b[1;33m.\u001b[0m\u001b[0mweights\u001b[0m\u001b[1;33m)\u001b[0m\u001b[1;33m)\u001b[0m\u001b[1;33m\u001b[0m\u001b[0m\n\u001b[0m\u001b[0;32m     20\u001b[0m \u001b[1;33m\u001b[0m\u001b[0m\n\u001b[0;32m     21\u001b[0m \u001b[1;31m# training algorithm: Adam with configurable learning rate\u001b[0m\u001b[1;33m\u001b[0m\u001b[1;33m\u001b[0m\u001b[0m\n",
      "\u001b[1;31mAttributeError\u001b[0m: 'Tensor' object has no attribute 'weights'"
     ]
    }
   ],
   "source": [
    "input = tf.placeholder(tf.float32, [None, 784], name=\"input\")\n",
    "targets = tf.placeholder(tf.float32, [None, 10], name=\"targets\")\n",
    "\n",
    "# network layers: two hidden and one output\n",
    "hidden1 = dense_layer(input, 784, 200, \"hidden1\", act=tf.nn.relu)\n",
    "#hidden1 = dense_layer(input, 784, 200, \"hidden1\", act=tf.identity)\n",
    "#hidden2 = dense_layer(hidden1, 200, 300, \"hidden2\", act=tf.nn.relu)\n",
    "output = dense_layer(hidden1, 200, 10, \"output\", act=tf.identity)\n",
    "\n",
    "\n",
    "# loss function: cross-entropy with built-in \n",
    "# (stable) computation of softmax from logits\n",
    "cross_entropy = tf.reduce_mean(\n",
    "    tf.nn.softmax_cross_entropy_with_logits(\n",
    "        labels=targets, logits=output\n",
    "    )\n",
    ")\n",
    "\n",
    "\n",
    "# training algorithm: Adam with configurable learning rate\n",
    "#train_step = tf.train.AdamOptimizer(0.0001).minimize(cross_entropy)\n",
    "#train_step = tf.train.MomentumOptimizer(0.01, 0.9).minimize(cross_entropy)\n",
    "#train_step = tf.train.AdagradOptimizer(0.1).minimize(cross_entropy)\n",
    "#train_step = tf.train.RMSPropOptimizer(0.1).minimize(cross_entropy)\n",
    "train_step = tf.train.GradientDescentOptimizer(0.1).minimize(cross_entropy)\n",
    "#train_step = tf.train.AdadeltaOptimizer(1.0).minimize(cross_entropy)\n",
    "\n",
    "# evaluation operation: ratio of correct predictions\n",
    "correct_prediction = tf.equal(tf.argmax(output, 1), tf.argmax(targets, 1))\n",
    "accuracy = tf.reduce_mean(tf.cast(correct_prediction, tf.float32))"
   ]
  },
  {
   "cell_type": "code",
   "execution_count": 27,
   "metadata": {
    "collapsed": false
   },
   "outputs": [],
   "source": [
    "from matplotlib import pyplot\n",
    "import numpy as np\n",
    "\n",
    "steps = []\n",
    "accuracies = []\n",
    "\n",
    "# creating session\n",
    "sess = tf.InteractiveSession()\n",
    "\n",
    "# initializing trainable variables\n",
    "sess.run(tf.global_variables_initializer())\n",
    "\n",
    "# training loop\n",
    "for step in range(4000):\n",
    "    # fetching next batch of training data\n",
    "    batch_xs, batch_ys = data.train.next_batch(100)\n",
    "\n",
    "    if step % 100 == 0:\n",
    "        # reporting current accuracy of the model on every 100th batch\n",
    "        batch_accuracy = sess.run(accuracy, feed_dict={input: batch_xs, targets: batch_ys})\n",
    "        #print(\"{0}:\\tbatch accuracy {1:.2f}\".format(step, batch_accuracy))\n",
    "        steps.append(step/100)\n",
    "        accuracies.append(batch_accuracy)\n",
    "\n",
    "    # running the training step with the fetched batch\n",
    "    sess.run(train_step, feed_dict={input: batch_xs, targets: batch_ys})\n",
    "\n",
    "pyplot.plot(steps, accuracies, 'k-', linewidth=2.0, color='green')\n",
    "pyplot.show()    "
   ]
  },
  {
   "cell_type": "code",
   "execution_count": 28,
   "metadata": {
    "collapsed": false
   },
   "outputs": [
    {
     "name": "stdout",
     "output_type": "stream",
     "text": [
      "-------------------------------------------------\n",
      "Test set accuracy: 0.9574\n"
     ]
    }
   ],
   "source": [
    "# evaluating model prediction accuracy of the model on the test set\n",
    "test_accuracy = sess.run(accuracy, feed_dict={input: data.test.images, targets: data.test.labels})\n",
    "\n",
    "\n",
    "print(\"-------------------------------------------------\")\n",
    "print(\"Test set accuracy: {0:.4f}\".format(test_accuracy))"
   ]
  },
  {
   "cell_type": "code",
   "execution_count": null,
   "metadata": {
    "collapsed": true
   },
   "outputs": [],
   "source": []
  }
 ],
 "metadata": {
  "anaconda-cloud": {},
  "kernelspec": {
   "display_name": "Python 3",
   "language": "python",
   "name": "python3"
  },
  "language_info": {
   "codemirror_mode": {
    "name": "ipython",
    "version": 3
   },
   "file_extension": ".py",
   "mimetype": "text/x-python",
   "name": "python",
   "nbconvert_exporter": "python",
   "pygments_lexer": "ipython3",
   "version": "3.6.0"
  }
 },
 "nbformat": 4,
 "nbformat_minor": 2
}
