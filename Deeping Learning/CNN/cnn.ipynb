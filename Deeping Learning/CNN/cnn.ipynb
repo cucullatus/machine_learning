{
 "cells": [
  {
   "cell_type": "code",
   "execution_count": 1,
   "metadata": {
    "collapsed": false
   },
   "outputs": [
    {
     "name": "stdout",
     "output_type": "stream",
     "text": [
      "Extracting G:/notebook/MNIST_data/train-images-idx3-ubyte.gz\n",
      "Extracting G:/notebook/MNIST_data/train-labels-idx1-ubyte.gz\n",
      "Extracting G:/notebook/MNIST_data/t10k-images-idx3-ubyte.gz\n",
      "Extracting G:/notebook/MNIST_data/t10k-labels-idx1-ubyte.gz\n"
     ]
    }
   ],
   "source": [
    "import tensorflow as tf\n",
    "import numpy as np\n",
    "\n",
    "from tensorflow.examples.tutorials.mnist import input_data\n",
    "LOCAL_FOLDER = \"G:/notebook/MNIST_data/\"\n",
    "data = input_data.read_data_sets(LOCAL_FOLDER, one_hot=True, validation_size=0)"
   ]
  },
  {
   "cell_type": "code",
   "execution_count": 2,
   "metadata": {
    "collapsed": true
   },
   "outputs": [],
   "source": [
    "np.random.seed(10)\n",
    "tf.set_random_seed(10)\n",
    "\n",
    "class MLP(object):\n",
    "    def __init__(self, input, in_dim, out_dim, act=tf.nn.relu, vn=('W', 'b'), keep_prob=1.0):\n",
    "        self.input = input\n",
    "        \n",
    "        W = tf.Variable(\n",
    "            tf.random_uniform(\n",
    "                [in_dim, out_dim], \n",
    "                maxval = tf.sqrt(6.0) / tf.sqrt(float(out_dim+in_dim)),\n",
    "                seed = 10\n",
    "            ), name=vn[0]\n",
    "        )\n",
    "        \n",
    "        b = tf.Variable(tf.zeros([out_dim]), name=vn[1])\n",
    "        \n",
    "        self.W = W\n",
    "        self.b = b\n",
    "        self.params = [self.W, self.b]\n",
    "        self.act = act\n",
    "        self.keep_prob = keep_prob\n",
    "    \n",
    "    def output(self):\n",
    "        y = tf.matmul(self.input, self.W) + self.b\n",
    "        y = tf.nn.dropout(y, self.keep_prob)\n",
    "        self.output = self.act(y)\n",
    "        \n",
    "        return self.output\n",
    "\n",
    "class conv2d(object):\n",
    "    def __init__(self, input, in_height, in_width, in_channels, out_channels, \n",
    "                 k=1, act=tf.nn.relu, vn=('W', 'b'), keep_prob=1.0):\n",
    "        self.input = input\n",
    "        \n",
    "        W = tf.Variable(\n",
    "            tf.random_uniform(\n",
    "                [in_height, in_width, in_channels, out_channels], \n",
    "                maxval = tf.sqrt(6.0) / tf.sqrt(float(in_height*in_width*in_channels + out_channels)),\n",
    "                seed = 10\n",
    "            ), name=vn[0]\n",
    "        )\n",
    "        \n",
    "        b = tf.Variable(tf.zeros([out_channels]), name=vn[1])\n",
    "        \n",
    "        self.W = W\n",
    "        self.b = b\n",
    "        self.params = [self.W, self.b]\n",
    "        self.act = act\n",
    "        self.strides = k\n",
    "        self.keep_prob = keep_prob\n",
    "        \n",
    "    def output(self): \n",
    "        y1 = tf.nn.conv2d(self.input, self.W, strides=[1, self.strides, self.strides, 1], padding='SAME')\n",
    "        y2 = tf.nn.bias_add(y1, self.b)\n",
    "        y2 = tf.nn.dropout(y2, self.keep_prob)\n",
    "        return tf.nn.relu(y2)\n",
    "\n",
    "\n",
    "class maxpool2d(object):\n",
    "    def __init__(self, input, k=2):\n",
    "        self.input = input\n",
    "        self.strides = k\n",
    "        \n",
    "    def output(self): \n",
    "        return tf.nn.max_pool(self.input, ksize=[1, self.strides, self.strides, 1], \n",
    "                              strides=[1, self.strides, self.strides, 1],\n",
    "                          padding='SAME')\n"
   ]
  },
  {
   "cell_type": "code",
   "execution_count": 3,
   "metadata": {
    "collapsed": false
   },
   "outputs": [],
   "source": [
    "dropout = tf.placeholder(tf.float32)\n",
    "input = tf.placeholder(tf.float32, [None, 784], name=\"input\")\n",
    "targets = tf.placeholder(tf.float32, [None, 10], name=\"targets\")\n",
    "\n",
    "x = tf.reshape(input, shape=[-1, 28, 28, 1])\n",
    "\n",
    "conv1 = conv2d(x, 5, 5, 1, 32, keep_prob=1.0 - dropout)\n",
    "conv1pool = maxpool2d(conv1.output(), k=2)\n",
    "\n",
    "#h1 = conv1pool.output()\n",
    "#conv2 = conv2d(h1, 5, 5, 4, 8, keep_prob=1.0 - dropout)\n",
    "#conv2pool = maxpool2d(conv2.output(), k=2)\n",
    "\n",
    "h2 = tf.reshape(conv1pool.output(), [-1, 14*14*32])\n",
    "mlp1 = MLP(h2, 14*14*32, 200, keep_prob = 1 - dropout)\n",
    "\n",
    "h3 = mlp1.output()\n",
    "mlp2 = MLP(h3, 200, 10, act=tf.identity, keep_prob = 1)\n",
    "\n",
    "predict = mlp2.output()\n",
    "\n",
    "\n",
    "cross_entropy = tf.reduce_mean(\n",
    "    tf.nn.softmax_cross_entropy_with_logits(\n",
    "        labels=targets, logits=predict\n",
    "    )\n",
    ")\n",
    "\n",
    "loss = cross_entropy + 1e-6 * (tf.reduce_sum(tf.abs(conv1.W)) \n",
    "                               + tf.reduce_sum(tf.abs(mlp1.W))+ tf.reduce_sum(tf.abs(mlp2.W)) )\n",
    "\n",
    "train_step = tf.train.AdamOptimizer(1e-4).minimize(loss) \n",
    "#tf.train.GradientDescentOptimizer(0.1).minimize(loss)\n",
    "\n",
    "correct_prediction = tf.equal(tf.argmax(predict, 1), tf.argmax(targets, 1))\n",
    "accuracy = tf.reduce_mean(tf.cast(correct_prediction, tf.float32))"
   ]
  },
  {
   "cell_type": "code",
   "execution_count": null,
   "metadata": {
    "collapsed": false
   },
   "outputs": [
    {
     "name": "stdout",
     "output_type": "stream",
     "text": [
      "0:\tbatch accuracy 0.11\n",
      "100:\tbatch accuracy 0.70\n",
      "200:\tbatch accuracy 0.78\n",
      "300:\tbatch accuracy 0.73\n"
     ]
    }
   ],
   "source": [
    "from matplotlib import pyplot\n",
    "\n",
    "steps = []\n",
    "accuracies = []\n",
    "\n",
    "# creating session\n",
    "sess = tf.InteractiveSession()\n",
    "\n",
    "# initializing trainable variables\n",
    "sess.run(tf.global_variables_initializer())\n",
    "\n",
    "# training loop\n",
    "for step in range(1000):\n",
    "    # fetching next batch of training data\n",
    "    batch_xs, batch_ys = data.train.next_batch(100)\n",
    "\n",
    "    if step % 100 == 0:\n",
    "        # reporting current accuracy of the model on every 100th batch\n",
    "        batch_accuracy = sess.run(accuracy, feed_dict={input: batch_xs, targets: batch_ys, dropout: 0.0})\n",
    "        print(\"{0}:\\tbatch accuracy {1:.2f}\".format(step, batch_accuracy))\n",
    "        steps.append(step/100)\n",
    "        accuracies.append(batch_accuracy)\n",
    "\n",
    "    # running the training step with the fetched batch\n",
    "    sess.run(train_step, feed_dict={input: batch_xs, targets: batch_ys, dropout: 0.25})\n",
    "\n",
    "pyplot.plot(steps, accuracies, 'k-', linewidth=2.0, color='green')\n",
    "pyplot.show()   "
   ]
  },
  {
   "cell_type": "code",
   "execution_count": 22,
   "metadata": {
    "collapsed": false
   },
   "outputs": [
    {
     "name": "stdout",
     "output_type": "stream",
     "text": [
      "-------------------------------------------------\n",
      "Test set accuracy: 0.9479\n"
     ]
    }
   ],
   "source": [
    "# evaluating model prediction accuracy of the model on the test set\n",
    "test_accuracy = sess.run(accuracy, feed_dict={input: data.test.images, targets: data.test.labels, dropout: 0.0})\n",
    "\n",
    "\n",
    "print(\"-------------------------------------------------\")\n",
    "print(\"Test set accuracy: {0:.4f}\".format(test_accuracy))"
   ]
  },
  {
   "cell_type": "code",
   "execution_count": null,
   "metadata": {
    "collapsed": true
   },
   "outputs": [],
   "source": []
  }
 ],
 "metadata": {
  "anaconda-cloud": {},
  "kernelspec": {
   "display_name": "Python 3",
   "language": "python",
   "name": "python3"
  },
  "language_info": {
   "codemirror_mode": {
    "name": "ipython",
    "version": 3
   },
   "file_extension": ".py",
   "mimetype": "text/x-python",
   "name": "python",
   "nbconvert_exporter": "python",
   "pygments_lexer": "ipython3",
   "version": "3.6.0"
  }
 },
 "nbformat": 4,
 "nbformat_minor": 0
}
